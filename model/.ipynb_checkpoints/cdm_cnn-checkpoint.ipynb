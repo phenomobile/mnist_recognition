{
 "cells": [
  {
   "cell_type": "code",
   "execution_count": 1,
   "id": "63f267e0",
   "metadata": {},
   "outputs": [],
   "source": [
    "import tensorflow as tf\n",
    "import numpy as np\n",
    "import pandas as pd\n",
    "\n",
    "import os\n",
    "import keras\n",
    "from tensorflow.keras.models import Sequential\n",
    "from tensorflow.keras import layers"
   ]
  },
  {
   "cell_type": "code",
   "execution_count": 2,
   "id": "cb421915",
   "metadata": {},
   "outputs": [],
   "source": [
    "dir_path = 'H:/datasets/handwritten_math/prep_starter_level/'\n",
    "\n",
    "batch_size = 32\n",
    "img_height = 28\n",
    "img_width = 28"
   ]
  },
  {
   "cell_type": "code",
   "execution_count": 7,
   "id": "31e9374d",
   "metadata": {},
   "outputs": [
    {
     "name": "stdout",
     "output_type": "stream",
     "text": [
      "Number of files 23573\n",
      "Number of Directories 0\n",
      "['(', ')', '+', '-', '0', '1', '2', '3', '4', '5', '6', '7', '8', '9', '=', 'div', 'times', 'aug']\n",
      "[14294, 0, 14355, 47198, 55304, 27164, 46905, 46679, 32671, 29086, 24236, 23719, 22655, 23705, 24185, 13104, 25232, 23573]\n"
     ]
    }
   ],
   "source": [
    "noOfDir = 0\n",
    "\n",
    "num_of_files = []\n",
    "num_of_dir = []\n",
    "\n",
    "\n",
    "for base, dirs, files in os.walk(dir_path):\n",
    "    noOfFiles = 0\n",
    "    \n",
    "    for directories in dirs:\n",
    "        num_of_dir.append(directories)\n",
    "    \n",
    "    for Files in files:\n",
    "        noOfFiles += 1\n",
    "        \n",
    "    num_of_files.append(noOfFiles)\n",
    "    \n",
    "print('Number of files', noOfFiles)\n",
    "print('Number of Directories', noOfDir)\n",
    "\n",
    "num_of_files.pop(0)\n",
    "\n",
    "print(num_of_dir)\n",
    "print(num_of_files)"
   ]
  },
  {
   "cell_type": "code",
   "execution_count": 4,
   "id": "fb233c51",
   "metadata": {},
   "outputs": [
    {
     "data": {
      "text/html": [
       "<div>\n",
       "<style scoped>\n",
       "    .dataframe tbody tr th:only-of-type {\n",
       "        vertical-align: middle;\n",
       "    }\n",
       "\n",
       "    .dataframe tbody tr th {\n",
       "        vertical-align: top;\n",
       "    }\n",
       "\n",
       "    .dataframe thead th {\n",
       "        text-align: right;\n",
       "    }\n",
       "</style>\n",
       "<table border=\"1\" class=\"dataframe\">\n",
       "  <thead>\n",
       "    <tr style=\"text-align: right;\">\n",
       "      <th></th>\n",
       "      <th>classname</th>\n",
       "      <th>num_of_files</th>\n",
       "    </tr>\n",
       "  </thead>\n",
       "  <tbody>\n",
       "    <tr>\n",
       "      <th>0</th>\n",
       "      <td>(</td>\n",
       "      <td>14294</td>\n",
       "    </tr>\n",
       "    <tr>\n",
       "      <th>1</th>\n",
       "      <td>)</td>\n",
       "      <td>0</td>\n",
       "    </tr>\n",
       "    <tr>\n",
       "      <th>2</th>\n",
       "      <td>+</td>\n",
       "      <td>14355</td>\n",
       "    </tr>\n",
       "    <tr>\n",
       "      <th>3</th>\n",
       "      <td>-</td>\n",
       "      <td>47198</td>\n",
       "    </tr>\n",
       "    <tr>\n",
       "      <th>4</th>\n",
       "      <td>0</td>\n",
       "      <td>55304</td>\n",
       "    </tr>\n",
       "    <tr>\n",
       "      <th>5</th>\n",
       "      <td>1</td>\n",
       "      <td>27164</td>\n",
       "    </tr>\n",
       "    <tr>\n",
       "      <th>6</th>\n",
       "      <td>2</td>\n",
       "      <td>46905</td>\n",
       "    </tr>\n",
       "    <tr>\n",
       "      <th>7</th>\n",
       "      <td>3</td>\n",
       "      <td>46679</td>\n",
       "    </tr>\n",
       "    <tr>\n",
       "      <th>8</th>\n",
       "      <td>4</td>\n",
       "      <td>32671</td>\n",
       "    </tr>\n",
       "    <tr>\n",
       "      <th>9</th>\n",
       "      <td>5</td>\n",
       "      <td>29086</td>\n",
       "    </tr>\n",
       "    <tr>\n",
       "      <th>10</th>\n",
       "      <td>6</td>\n",
       "      <td>24236</td>\n",
       "    </tr>\n",
       "    <tr>\n",
       "      <th>11</th>\n",
       "      <td>7</td>\n",
       "      <td>23719</td>\n",
       "    </tr>\n",
       "    <tr>\n",
       "      <th>12</th>\n",
       "      <td>8</td>\n",
       "      <td>22655</td>\n",
       "    </tr>\n",
       "    <tr>\n",
       "      <th>13</th>\n",
       "      <td>9</td>\n",
       "      <td>23705</td>\n",
       "    </tr>\n",
       "    <tr>\n",
       "      <th>14</th>\n",
       "      <td>=</td>\n",
       "      <td>24185</td>\n",
       "    </tr>\n",
       "    <tr>\n",
       "      <th>15</th>\n",
       "      <td>div</td>\n",
       "      <td>13104</td>\n",
       "    </tr>\n",
       "    <tr>\n",
       "      <th>16</th>\n",
       "      <td>times</td>\n",
       "      <td>25232</td>\n",
       "    </tr>\n",
       "    <tr>\n",
       "      <th>17</th>\n",
       "      <td>aug</td>\n",
       "      <td>23573</td>\n",
       "    </tr>\n",
       "  </tbody>\n",
       "</table>\n",
       "</div>"
      ],
      "text/plain": [
       "   classname  num_of_files\n",
       "0          (         14294\n",
       "1          )             0\n",
       "2          +         14355\n",
       "3          -         47198\n",
       "4          0         55304\n",
       "5          1         27164\n",
       "6          2         46905\n",
       "7          3         46679\n",
       "8          4         32671\n",
       "9          5         29086\n",
       "10         6         24236\n",
       "11         7         23719\n",
       "12         8         22655\n",
       "13         9         23705\n",
       "14         =         24185\n",
       "15       div         13104\n",
       "16     times         25232\n",
       "17       aug         23573"
      ]
     },
     "execution_count": 4,
     "metadata": {},
     "output_type": "execute_result"
    }
   ],
   "source": [
    "df = pd.DataFrame(\n",
    "{'classname' : num_of_dir,\n",
    " 'num_of_files' : num_of_files\n",
    "})\n",
    "\n",
    "df"
   ]
  },
  {
   "cell_type": "code",
   "execution_count": 6,
   "id": "30485544-0f22-41ea-bf13-b5ff2c4638c6",
   "metadata": {},
   "outputs": [
    {
     "data": {
      "image/png": "[encoded data removed]",
      "text/plain": [
       "<Figure size 720x432 with 1 Axes>"
      ]
     },
     "metadata": {
      "needs_background": "light"
     },
     "output_type": "display_data"
    }
   ],
   "source": [
    "ax = df.plot.bar(x='classname', y='num_of_files', rot=90, figsize = (10,6))"
   ]
  },
  {
   "cell_type": "code",
   "execution_count": null,
   "id": "85d321b8-34f3-46c6-9c71-a4495442817e",
   "metadata": {},
   "outputs": [],
   "source": [
    "'''\n",
    "To augment:\n",
    "( ~ 25000\n",
    ") ~ 25000\n",
    "0 ~ 13000\n",
    "3 ~ 8000\n",
    "4 ~ 11000\n",
    "5 ~ 18000\n",
    "6 ~ 18000\n",
    "7 ~ 20000\n",
    "8 ~ 16000\n",
    "9 ~ 15000\n",
    "= ~ 27000\n",
    "div ~ 15000\n",
    "times ~ 17000\n",
    "'''\n",
    "# To undersample: + ~ 6000, - ~ 16000\n"
   ]
  },
  {
   "cell_type": "code",
   "execution_count": null,
   "id": "29a06504-6fcb-4845-8ea5-2f8e4d5797b0",
   "metadata": {},
   "outputs": [],
   "source": []
  },
  {
   "cell_type": "code",
   "execution_count": 6,
   "id": "3d927552",
   "metadata": {},
   "outputs": [
    {
     "name": "stdout",
     "output_type": "stream",
     "text": [
      "Found 494065 files belonging to 17 classes.\n",
      "Using 395252 files for training.\n"
     ]
    }
   ],
   "source": [
    "train_ds = tf.keras.utils.image_dataset_from_directory (\n",
    "    dir_path, \n",
    "    validation_split = 0.2, \n",
    "    subset = \"training\", \n",
    "    seed = 42,\n",
    "    image_size=(img_height, img_width), \n",
    "    batch_size = batch_size\n",
    ")"
   ]
  },
  {
   "cell_type": "code",
   "execution_count": 7,
   "id": "19bb0194",
   "metadata": {},
   "outputs": [
    {
     "name": "stdout",
     "output_type": "stream",
     "text": [
      "Found 494065 files belonging to 17 classes.\n",
      "Using 98813 files for validation.\n"
     ]
    }
   ],
   "source": [
    "val_ds = tf.keras.utils.image_dataset_from_directory (\n",
    "    dir_path, \n",
    "    validation_split = 0.2,\n",
    "    subset = \"validation\",\n",
    "    seed = 42,\n",
    "    image_size = (img_height, img_width), \n",
    "    batch_size = batch_size\n",
    ")"
   ]
  },
  {
   "cell_type": "code",
   "execution_count": 8,
   "id": "331167f5-279a-43ab-a570-07a4131c19b7",
   "metadata": {},
   "outputs": [
    {
     "name": "stdout",
     "output_type": "stream",
     "text": [
      "['(', ')', '+', '-', '0', '1', '2', '3', '4', '5', '6', '7', '8', '9', '=', 'div', 'times']\n"
     ]
    }
   ],
   "source": [
    "class_names = train_ds.class_names\n",
    "print(class_names)"
   ]
  },
  {
   "cell_type": "code",
   "execution_count": 9,
   "id": "eda5cc17-281a-4ef6-8c4b-a86b89fae383",
   "metadata": {},
   "outputs": [
    {
     "data": {
      "image/png": "[encoded data removed]",
      "text/plain": [
       "<Figure size 720x720 with 9 Axes>"
      ]
     },
     "metadata": {
      "needs_background": "light"
     },
     "output_type": "display_data"
    }
   ],
   "source": [
    "import matplotlib.pyplot as plt\n",
    "\n",
    "plt.figure(figsize=(10, 10))\n",
    "for images, labels in train_ds.take(1):\n",
    "    for i in range(9):\n",
    "        ax = plt.subplot(3, 3, i + 1)\n",
    "        plt.imshow(images[i].numpy().astype(\"uint8\"))\n",
    "        plt.title(class_names[labels[i]])\n",
    "        plt.axis(\"off\")"
   ]
  },
  {
   "cell_type": "code",
   "execution_count": 10,
   "id": "d264f8b3",
   "metadata": {},
   "outputs": [],
   "source": [
    "AUTOTUNE = tf.data.AUTOTUNE\n",
    "\n",
    "train_ds = train_ds.cache().shuffle(1000).prefetch(buffer_size = AUTOTUNE)\n",
    "val_ds = val_ds.cache().prefetch(buffer_size = AUTOTUNE)"
   ]
  },
  {
   "cell_type": "code",
   "execution_count": 11,
   "id": "4e051b05",
   "metadata": {},
   "outputs": [
    {
     "name": "stdout",
     "output_type": "stream",
     "text": [
      "0.0 1.0\n"
     ]
    }
   ],
   "source": [
    "normalization_layer = layers.Rescaling(1./255)\n",
    "\n",
    "normalized_ds = train_ds.map(\n",
    "    lambda x, y: (normalization_layer(x), y)\n",
    ")\n",
    "image_batch, label_batch = next(iter(normalized_ds))\n",
    "first_image = image_batch[0]\n",
    "\n",
    "print(np.min(first_image), np.max(first_image))"
   ]
  },
  {
   "cell_type": "code",
   "execution_count": 12,
   "id": "0116cec0",
   "metadata": {},
   "outputs": [],
   "source": [
    "num_of_classes = len(class_names)\n",
    "epochs = 10\n",
    "\n",
    "def cnn_model():\n",
    "    \n",
    "    model = tf.keras.Sequential()\n",
    "    \n",
    "    #model.add(layers.Resizing(28, 28, interpolation='bilinear', crop_to_aspect_ratio=False))\n",
    "    model.add(layers.Conv2D(64, (5, 5), strides=(2, 2), padding='same', \n",
    "                            activation = 'relu', input_shape = (img_height, img_width, 3)))\n",
    "              \n",
    "    model.add(layers.MaxPooling2D(pool_size = (2,2)))\n",
    "    model.add(layers.Dropout(0.2))\n",
    "    \n",
    "    model.add(layers.Conv2D(128, (5, 5), strides=(2, 2), padding='same'))\n",
    "    model.add(layers.LeakyReLU(alpha = 0.2))\n",
    "    model.add(layers.Dropout(0.2))\n",
    "\n",
    "    model.add(layers.Flatten())\n",
    "    model.add(layers.Dense(250, activation = 'relu'))\n",
    "    model.add(layers.Dense(num_of_classes))\n",
    "              \n",
    "    return model"
   ]
  },
  {
   "cell_type": "code",
   "execution_count": 13,
   "id": "0934d64f",
   "metadata": {},
   "outputs": [
    {
     "name": "stdout",
     "output_type": "stream",
     "text": [
      "Epoch 1/10\n",
      "12352/12352 [==============================] - 2407s 194ms/step - loss: 0.4356 - accuracy: 0.8865 - val_loss: 0.1163 - val_accuracy: 0.9666\n",
      "Epoch 2/10\n",
      "12352/12352 [==============================] - 421s 34ms/step - loss: 0.1417 - accuracy: 0.9568 - val_loss: 0.0891 - val_accuracy: 0.9726\n",
      "Epoch 3/10\n",
      "12352/12352 [==============================] - 465s 38ms/step - loss: 0.1142 - accuracy: 0.9651 - val_loss: 0.0713 - val_accuracy: 0.9777\n",
      "Epoch 4/10\n",
      "12352/12352 [==============================] - 406s 33ms/step - loss: 0.1023 - accuracy: 0.9686 - val_loss: 0.0636 - val_accuracy: 0.9805\n",
      "Epoch 5/10\n",
      "12352/12352 [==============================] - 427s 35ms/step - loss: 0.0944 - accuracy: 0.9710 - val_loss: 0.0649 - val_accuracy: 0.9794\n",
      "Epoch 6/10\n",
      "12352/12352 [==============================] - 430s 35ms/step - loss: 0.0912 - accuracy: 0.9723 - val_loss: 0.0776 - val_accuracy: 0.9764\n",
      "Epoch 7/10\n",
      "12352/12352 [==============================] - 448s 36ms/step - loss: 0.0874 - accuracy: 0.9737 - val_loss: 0.0738 - val_accuracy: 0.9776\n",
      "Epoch 8/10\n",
      "12352/12352 [==============================] - 432s 35ms/step - loss: 0.0850 - accuracy: 0.9745 - val_loss: 0.0670 - val_accuracy: 0.9802\n",
      "Epoch 9/10\n",
      "12352/12352 [==============================] - 440s 36ms/step - loss: 0.0823 - accuracy: 0.9755 - val_loss: 0.0670 - val_accuracy: 0.9796\n",
      "Epoch 10/10\n",
      "12352/12352 [==============================] - 420s 34ms/step - loss: 0.0829 - accuracy: 0.9759 - val_loss: 0.0810 - val_accuracy: 0.9761\n",
      "The model has successfully trained\n"
     ]
    }
   ],
   "source": [
    "model = cnn_model()\n",
    "\n",
    "model.compile(loss = tf.keras.losses.SparseCategoricalCrossentropy(from_logits = True),\n",
    "              optimizer = tf.keras.optimizers.Adam(learning_rate = 2e-4, \n",
    "                                                   beta_1 = 0.5), metrics=['accuracy'])\n",
    "\n",
    "history = model.fit(train_ds, validation_data = val_ds,\n",
    "                    epochs = epochs, verbose = 1)\n",
    "\n",
    "print(\"The model has successfully trained\")"
   ]
  },
  {
   "cell_type": "code",
   "execution_count": 14,
   "id": "28c66692",
   "metadata": {},
   "outputs": [
    {
     "name": "stdout",
     "output_type": "stream",
     "text": [
      "Model: \"sequential\"\n",
      "_________________________________________________________________\n",
      " Layer (type)                Output Shape              Param #   \n",
      "=================================================================\n",
      " conv2d (Conv2D)             (None, 14, 14, 64)        4864      \n",
      "                                                                 \n",
      " max_pooling2d (MaxPooling2D  (None, 7, 7, 64)         0         \n",
      " )                                                               \n",
      "                                                                 \n",
      " dropout (Dropout)           (None, 7, 7, 64)          0         \n",
      "                                                                 \n",
      " conv2d_1 (Conv2D)           (None, 4, 4, 128)         204928    \n",
      "                                                                 \n",
      " leaky_re_lu (LeakyReLU)     (None, 4, 4, 128)         0         \n",
      "                                                                 \n",
      " dropout_1 (Dropout)         (None, 4, 4, 128)         0         \n",
      "                                                                 \n",
      " flatten (Flatten)           (None, 2048)              0         \n",
      "                                                                 \n",
      " dense (Dense)               (None, 250)               512250    \n",
      "                                                                 \n",
      " dense_1 (Dense)             (None, 17)                4267      \n",
      "                                                                 \n",
      "=================================================================\n",
      "Total params: 726,309\n",
      "Trainable params: 726,309\n",
      "Non-trainable params: 0\n",
      "_________________________________________________________________\n"
     ]
    }
   ],
   "source": [
    "model.summary()"
   ]
  },
  {
   "cell_type": "code",
   "execution_count": 15,
   "id": "ec28787c",
   "metadata": {},
   "outputs": [
    {
     "data": {
      "image/png": "[encoded data removed]",
      "text/plain": [
       "<Figure size 576x576 with 2 Axes>"
      ]
     },
     "metadata": {
      "needs_background": "light"
     },
     "output_type": "display_data"
    }
   ],
   "source": [
    "acc = history.history['accuracy']\n",
    "val_acc = history.history['val_accuracy']\n",
    "\n",
    "loss = history.history['loss']\n",
    "val_loss = history.history['val_loss']\n",
    "\n",
    "epochs_range = range(epochs)\n",
    "\n",
    "plt.figure(figsize=(8, 8))\n",
    "plt.subplot(1, 2, 1)\n",
    "plt.plot(epochs_range, acc, label='Training Accuracy')\n",
    "plt.plot(epochs_range, val_acc, label='Validation Accuracy')\n",
    "plt.legend(loc='lower right')\n",
    "plt.title('Training and Validation Accuracy')\n",
    "\n",
    "plt.subplot(1, 2, 2)\n",
    "plt.plot(epochs_range, loss, label='Training Loss')\n",
    "plt.plot(epochs_range, val_loss, label='Validation Loss')\n",
    "plt.legend(loc='upper right')\n",
    "plt.title('Training and Validation Loss')\n",
    "plt.show()"
   ]
  },
  {
   "cell_type": "code",
   "execution_count": 16,
   "id": "38ddf9b0",
   "metadata": {},
   "outputs": [
    {
     "name": "stdout",
     "output_type": "stream",
     "text": [
      "Saving the model as sequential\n"
     ]
    }
   ],
   "source": [
    "model_name = 'CDM_CNNv2.h5'\n",
    "model.save(model_name)\n",
    "print(\"Saving the model as \" + model.name)"
   ]
  },
  {
   "cell_type": "code",
   "execution_count": 19,
   "id": "ef4ebcf0",
   "metadata": {},
   "outputs": [
    {
     "name": "stdout",
     "output_type": "stream",
     "text": [
      "This image most likely belongs to times with a 84.53 percent confidence.\n"
     ]
    }
   ],
   "source": [
    "digit_url = \"https://habrastorage.org/getpro/habr/post_images/f99/a20/1e5/f99a201e557bacdbe39190a6f913b49e.png\"\n",
    "digit_path = tf.keras.utils.get_file('Test_digit', origin=digit_url)\n",
    "\n",
    "img = tf.keras.utils.load_img(\n",
    "    digit_path, target_size=(img_height, img_width)\n",
    ")\n",
    "img_array = tf.keras.utils.img_to_array(img)\n",
    "img_array = tf.expand_dims(img_array, 0) # Create a batch\n",
    "\n",
    "predictions = model.predict(img_array)\n",
    "score = tf.nn.softmax(predictions[0])\n",
    "\n",
    "print(\n",
    "    \"This image most likely belongs to {} with a {:.2f} percent confidence.\"\n",
    "    .format(class_names[np.argmax(score)], 100 * np.max(score))\n",
    ")"
   ]
  },
  {
   "cell_type": "code",
   "execution_count": null,
   "id": "ca04b4e2",
   "metadata": {},
   "outputs": [],
   "source": []
  }
 ],
 "metadata": {
  "kernelspec": {
   "display_name": "Python 3 (ipykernel)",
   "language": "python",
   "name": "python3"
  },
  "language_info": {
   "codemirror_mode": {
    "name": "ipython",
    "version": 3
   },
   "file_extension": ".py",
   "mimetype": "text/x-python",
   "name": "python",
   "nbconvert_exporter": "python",
   "pygments_lexer": "ipython3",
   "version": "3.9.7"
  }
 },
 "nbformat": 4,
 "nbformat_minor": 5
}
