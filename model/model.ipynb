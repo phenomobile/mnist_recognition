{
 "cells": [
  {
   "cell_type": "code",
   "execution_count": 1,
   "id": "a267bb40",
   "metadata": {},
   "outputs": [],
   "source": [
    "import tensorflow as tf\n",
    "\n",
    "import keras\n",
    "from keras.datasets import mnist\n",
    "from tensorflow.keras.models import Sequential\n",
    "from tensorflow.keras import layers"
   ]
  },
  {
   "cell_type": "code",
   "execution_count": 2,
   "id": "53ed627a",
   "metadata": {},
   "outputs": [
    {
     "name": "stdout",
     "output_type": "stream",
     "text": [
      "(60000, 28, 28) (10000, 28, 28)\n"
     ]
    }
   ],
   "source": [
    "(X_train, y_train), (X_test, y_test) = mnist.load_data()\n",
    "print(X_train.shape, X_test.shape)"
   ]
  },
  {
   "cell_type": "code",
   "execution_count": 3,
   "id": "7a6c234a",
   "metadata": {},
   "outputs": [],
   "source": [
    "X_train = X_train.reshape(X_train.shape[0],\n",
    "                          X_train.shape[1],\n",
    "                          X_train.shape[2], 1).astype('float32') / 255 # Normalize the images to [-1, 1]\n",
    "\n",
    "X_test = X_test.reshape(X_test.shape[0],\n",
    "                        X_test.shape[1], \n",
    "                        X_test.shape[2], 1).astype('float32') / 255 # Normalize the images to [-1, 1]"
   ]
  },
  {
   "cell_type": "code",
   "execution_count": 4,
   "id": "1eb25bf6",
   "metadata": {},
   "outputs": [],
   "source": [
    "num_of_classes = 10\n",
    "\n",
    "y_train = tf.keras.utils.to_categorical(y_train, num_of_classes)\n",
    "y_test = tf.keras.utils.to_categorical(y_test, num_of_classes)"
   ]
  },
  {
   "cell_type": "code",
   "execution_count": 5,
   "id": "7f246db8",
   "metadata": {},
   "outputs": [],
   "source": [
    "BATCH_SIZE = 128\n",
    "epochs = 10"
   ]
  },
  {
   "cell_type": "code",
   "execution_count": 6,
   "id": "189f14bd",
   "metadata": {},
   "outputs": [],
   "source": [
    "# Create the model\n",
    "\n",
    "def cnn_model():\n",
    "    \n",
    "    model = tf.keras.Sequential()\n",
    "    \n",
    "    model.add(layers.Conv2D(64, (5, 5), strides=(2, 2), padding='same', \n",
    "                            activation = 'relu', input_shape = (28,28,1)))\n",
    "              \n",
    "    model.add(layers.MaxPooling2D(pool_size = (2,2)))\n",
    "    model.add(layers.Dropout(0.2))\n",
    "    \n",
    "    model.add(layers.Conv2D(128, (5, 5), strides=(2, 2), padding='same'))\n",
    "    model.add(layers.LeakyReLU(alpha = 0.2))\n",
    "    model.add(layers.Dropout(0.2))\n",
    "\n",
    "    model.add(layers.Flatten())\n",
    "    model.add(layers.Dense(256, activation = 'relu'))\n",
    "    model.add(layers.Dense(num_of_classes, activation = 'softmax'))\n",
    "              \n",
    "    return model"
   ]
  },
  {
   "cell_type": "code",
   "execution_count": 7,
   "id": "d2c071c1",
   "metadata": {
    "scrolled": true
   },
   "outputs": [
    {
     "name": "stdout",
     "output_type": "stream",
     "text": [
      "Epoch 1/10\n",
      "422/422 [==============================] - 28s 64ms/step - loss: 0.4359 - accuracy: 0.8786 - val_loss: 0.1212 - val_accuracy: 0.9660\n",
      "Epoch 2/10\n",
      "422/422 [==============================] - 27s 64ms/step - loss: 0.1348 - accuracy: 0.9597 - val_loss: 0.0771 - val_accuracy: 0.9795\n",
      "Epoch 3/10\n",
      "422/422 [==============================] - 27s 65ms/step - loss: 0.0934 - accuracy: 0.9714 - val_loss: 0.0604 - val_accuracy: 0.9853\n",
      "Epoch 4/10\n",
      "422/422 [==============================] - 28s 67ms/step - loss: 0.0740 - accuracy: 0.9769 - val_loss: 0.0531 - val_accuracy: 0.9853\n",
      "Epoch 5/10\n",
      "422/422 [==============================] - 27s 65ms/step - loss: 0.0627 - accuracy: 0.9807 - val_loss: 0.0483 - val_accuracy: 0.9878\n",
      "Epoch 6/10\n",
      "422/422 [==============================] - 28s 66ms/step - loss: 0.0545 - accuracy: 0.9831 - val_loss: 0.0478 - val_accuracy: 0.9878\n",
      "Epoch 7/10\n",
      "422/422 [==============================] - 27s 65ms/step - loss: 0.0468 - accuracy: 0.9853 - val_loss: 0.0423 - val_accuracy: 0.9893\n",
      "Epoch 8/10\n",
      "422/422 [==============================] - 27s 65ms/step - loss: 0.0429 - accuracy: 0.9869 - val_loss: 0.0396 - val_accuracy: 0.9900\n",
      "Epoch 9/10\n",
      "422/422 [==============================] - 28s 67ms/step - loss: 0.0392 - accuracy: 0.9879 - val_loss: 0.0388 - val_accuracy: 0.9895\n",
      "Epoch 10/10\n",
      "422/422 [==============================] - 28s 66ms/step - loss: 0.0349 - accuracy: 0.9889 - val_loss: 0.0391 - val_accuracy: 0.9887\n",
      "The model has successfully trained\n",
      "Saving the model as sequential\n"
     ]
    }
   ],
   "source": [
    "# Train model\n",
    "\n",
    "model = cnn_model()\n",
    "\n",
    "model.compile(loss = tf.keras.losses.categorical_crossentropy,\n",
    "              optimizer = tf.keras.optimizers.Adam(learning_rate = 2e-4, \n",
    "                                                   beta_1 = 0.5), metrics=['accuracy'])\n",
    "\n",
    "hist = model.fit(X_train, y_train,\n",
    "                 batch_size = BATCH_SIZE, epochs = epochs, validation_split = 0.1,\n",
    "                 verbose = 1, validation_data = (X_test, y_test))\n",
    "print(\"The model has successfully trained\")\n",
    "model_name = 'mnist_cnn.h5'\n",
    "model.save(model_name)\n",
    "print(\"Saving the model as \" + model.name)"
   ]
  },
  {
   "cell_type": "code",
   "execution_count": 8,
   "id": "0050fe7c",
   "metadata": {},
   "outputs": [
    {
     "name": "stdout",
     "output_type": "stream",
     "text": [
      "Model: \"sequential\"\n",
      "_________________________________________________________________\n",
      " Layer (type)                Output Shape              Param #   \n",
      "=================================================================\n",
      " conv2d (Conv2D)             (None, 14, 14, 64)        1664      \n",
      "                                                                 \n",
      " max_pooling2d (MaxPooling2D  (None, 7, 7, 64)         0         \n",
      " )                                                               \n",
      "                                                                 \n",
      " dropout (Dropout)           (None, 7, 7, 64)          0         \n",
      "                                                                 \n",
      " conv2d_1 (Conv2D)           (None, 4, 4, 128)         204928    \n",
      "                                                                 \n",
      " leaky_re_lu (LeakyReLU)     (None, 4, 4, 128)         0         \n",
      "                                                                 \n",
      " dropout_1 (Dropout)         (None, 4, 4, 128)         0         \n",
      "                                                                 \n",
      " flatten (Flatten)           (None, 2048)              0         \n",
      "                                                                 \n",
      " dense (Dense)               (None, 256)               524544    \n",
      "                                                                 \n",
      " dense_1 (Dense)             (None, 10)                2570      \n",
      "                                                                 \n",
      "=================================================================\n",
      "Total params: 733,706\n",
      "Trainable params: 733,706\n",
      "Non-trainable params: 0\n",
      "_________________________________________________________________\n"
     ]
    }
   ],
   "source": [
    "model.summary()"
   ]
  },
  {
   "cell_type": "code",
   "execution_count": 9,
   "id": "31dc1026",
   "metadata": {},
   "outputs": [
    {
     "name": "stdout",
     "output_type": "stream",
     "text": [
      "Test loss: 0.03212006390094757\n",
      "Test accuracy: 0.9890000224113464\n"
     ]
    }
   ],
   "source": [
    "# Getting accuracy score\n",
    "\n",
    "score = model.evaluate(X_test, y_test, verbose = 0)\n",
    "\n",
    "print('Test loss:', score[0])\n",
    "print('Test accuracy:', score[1])"
   ]
  }
 ],
 "metadata": {
  "kernelspec": {
   "display_name": "Python 3 (ipykernel)",
   "language": "python",
   "name": "python3"
  },
  "language_info": {
   "codemirror_mode": {
    "name": "ipython",
    "version": 3
   },
   "file_extension": ".py",
   "mimetype": "text/x-python",
   "name": "python",
   "nbconvert_exporter": "python",
   "pygments_lexer": "ipython3",
   "version": "3.9.7"
  }
 },
 "nbformat": 4,
 "nbformat_minor": 5
}
