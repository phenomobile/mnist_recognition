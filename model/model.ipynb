{
 "cells": [
  {
   "cell_type": "code",
   "execution_count": 1,
   "id": "a267bb40",
   "metadata": {},
   "outputs": [],
   "source": [
    "import tensorflow as tf\n",
    "\n",
    "import keras\n",
    "from keras.datasets import mnist\n",
    "from tensorflow.keras.models import Sequential\n",
    "from tensorflow.keras import layers"
   ]
  },
  {
   "cell_type": "code",
   "execution_count": 2,
   "id": "53ed627a",
   "metadata": {},
   "outputs": [
    {
     "name": "stdout",
     "output_type": "stream",
     "text": [
      "(60000, 28, 28) (10000, 28, 28)\n"
     ]
    }
   ],
   "source": [
    "(X_train, y_train), (X_test, y_test) = mnist.load_data()\n",
    "print(X_train.shape, X_test.shape)"
   ]
  },
  {
   "cell_type": "code",
   "execution_count": 3,
   "id": "7a6c234a",
   "metadata": {},
   "outputs": [],
   "source": [
    "X_train = X_train.reshape(X_train.shape[0],\n",
    "                          X_train.shape[1],\n",
    "                          X_train.shape[2], 1).astype('float32') / 255 # Normalize the images to [-1, 1]\n",
    "\n",
    "X_test = X_test.reshape(X_test.shape[0],\n",
    "                        X_test.shape[1], \n",
    "                        X_test.shape[2], 1).astype('float32') / 255 # Normalize the images to [-1, 1]"
   ]
  },
  {
   "cell_type": "code",
   "execution_count": 4,
   "id": "1eb25bf6",
   "metadata": {},
   "outputs": [],
   "source": [
    "num_of_classes = 10\n",
    "\n",
    "y_train = tf.keras.utils.to_categorical(y_train, num_of_classes)\n",
    "y_test = tf.keras.utils.to_categorical(y_test, num_of_classes)"
   ]
  },
  {
   "cell_type": "code",
   "execution_count": 5,
   "id": "7f246db8",
   "metadata": {},
   "outputs": [],
   "source": [
    "BATCH_SIZE = 128\n",
    "epochs = 20"
   ]
  },
  {
   "cell_type": "code",
   "execution_count": 6,
   "id": "189f14bd",
   "metadata": {},
   "outputs": [],
   "source": [
    "# Create the model\n",
    "\n",
    "def cnn_model():\n",
    "    \n",
    "    model = tf.keras.Sequential()\n",
    "    \n",
    "    model.add(layers.Conv2D(64, (5, 5), strides=(2, 2), padding='same', \n",
    "                            activation = 'relu', input_shape = (28,28,1)))\n",
    "              \n",
    "    model.add(layers.MaxPooling2D(pool_size = (2,2)))\n",
    "    model.add(layers.Dropout(0.2))\n",
    "    \n",
    "    model.add(layers.Conv2D(128, (5, 5), strides=(2, 2), padding='same'))\n",
    "    model.add(layers.LeakyReLU(alpha = 0.2))\n",
    "    model.add(layers.Dropout(0.2))\n",
    "\n",
    "    model.add(layers.Flatten())\n",
    "    model.add(layers.Dense(500, activation = 'relu'))\n",
    "    model.add(layers.Dense(num_of_classes, activation = 'softmax'))\n",
    "              \n",
    "    return model"
   ]
  },
  {
   "cell_type": "code",
   "execution_count": 10,
   "id": "d2c071c1",
   "metadata": {
    "scrolled": true
   },
   "outputs": [
    {
     "name": "stdout",
     "output_type": "stream",
     "text": [
      "Epoch 1/20\n",
      "422/422 [==============================] - 30s 71ms/step - loss: 0.4020 - accuracy: 0.8866 - val_loss: 0.1122 - val_accuracy: 0.9692\n",
      "Epoch 2/20\n",
      "422/422 [==============================] - 29s 70ms/step - loss: 0.1247 - accuracy: 0.9618 - val_loss: 0.0752 - val_accuracy: 0.9802\n",
      "Epoch 3/20\n",
      "422/422 [==============================] - 30s 70ms/step - loss: 0.0888 - accuracy: 0.9732 - val_loss: 0.0652 - val_accuracy: 0.9827\n",
      "Epoch 4/20\n",
      "422/422 [==============================] - 30s 71ms/step - loss: 0.0708 - accuracy: 0.9786 - val_loss: 0.0515 - val_accuracy: 0.9867\n",
      "Epoch 5/20\n",
      "422/422 [==============================] - 35s 82ms/step - loss: 0.0599 - accuracy: 0.9810 - val_loss: 0.0436 - val_accuracy: 0.9878\n",
      "Epoch 6/20\n",
      "422/422 [==============================] - 31s 73ms/step - loss: 0.0527 - accuracy: 0.9834 - val_loss: 0.0458 - val_accuracy: 0.9890\n",
      "Epoch 7/20\n",
      "422/422 [==============================] - 31s 73ms/step - loss: 0.0453 - accuracy: 0.9859 - val_loss: 0.0403 - val_accuracy: 0.9897\n",
      "Epoch 8/20\n",
      "422/422 [==============================] - 31s 74ms/step - loss: 0.0407 - accuracy: 0.9870 - val_loss: 0.0392 - val_accuracy: 0.9893\n",
      "Epoch 9/20\n",
      "422/422 [==============================] - 32s 75ms/step - loss: 0.0363 - accuracy: 0.9887 - val_loss: 0.0363 - val_accuracy: 0.9895\n",
      "Epoch 10/20\n",
      "422/422 [==============================] - 31s 74ms/step - loss: 0.0326 - accuracy: 0.9899 - val_loss: 0.0377 - val_accuracy: 0.9898\n",
      "Epoch 11/20\n",
      "422/422 [==============================] - 31s 74ms/step - loss: 0.0306 - accuracy: 0.9902 - val_loss: 0.0346 - val_accuracy: 0.9912\n",
      "Epoch 12/20\n",
      "422/422 [==============================] - 32s 75ms/step - loss: 0.0278 - accuracy: 0.9914 - val_loss: 0.0336 - val_accuracy: 0.9918\n",
      "Epoch 13/20\n",
      "422/422 [==============================] - 35s 84ms/step - loss: 0.0258 - accuracy: 0.9918 - val_loss: 0.0381 - val_accuracy: 0.9903\n",
      "Epoch 14/20\n",
      "422/422 [==============================] - 31s 74ms/step - loss: 0.0237 - accuracy: 0.9921 - val_loss: 0.0339 - val_accuracy: 0.9912\n",
      "Epoch 15/20\n",
      "422/422 [==============================] - 32s 77ms/step - loss: 0.0208 - accuracy: 0.9929 - val_loss: 0.0342 - val_accuracy: 0.9910\n",
      "Epoch 16/20\n",
      "422/422 [==============================] - 39s 91ms/step - loss: 0.0203 - accuracy: 0.9934 - val_loss: 0.0348 - val_accuracy: 0.9905\n",
      "Epoch 17/20\n",
      "422/422 [==============================] - 51s 120ms/step - loss: 0.0181 - accuracy: 0.9942 - val_loss: 0.0330 - val_accuracy: 0.9917\n",
      "Epoch 18/20\n",
      "422/422 [==============================] - 44s 104ms/step - loss: 0.0164 - accuracy: 0.9946 - val_loss: 0.0323 - val_accuracy: 0.9922\n",
      "Epoch 19/20\n",
      "422/422 [==============================] - 43s 102ms/step - loss: 0.0152 - accuracy: 0.9947 - val_loss: 0.0335 - val_accuracy: 0.9917\n",
      "Epoch 20/20\n",
      "422/422 [==============================] - 43s 101ms/step - loss: 0.0148 - accuracy: 0.9949 - val_loss: 0.0388 - val_accuracy: 0.9918\n",
      "The model has successfully trained\n",
      "Saving the model as sequential\n"
     ]
    }
   ],
   "source": [
    "# Train model\n",
    "\n",
    "model = cnn_model()\n",
    "\n",
    "model.compile(loss = tf.keras.losses.categorical_crossentropy,\n",
    "              optimizer = tf.keras.optimizers.Adam(learning_rate = 2e-4, \n",
    "                                                   beta_1 = 0.5), metrics=['accuracy'])\n",
    "\n",
    "hist = model.fit(X_train, y_train,\n",
    "                 batch_size = BATCH_SIZE, epochs = epochs, validation_split = 0.1,\n",
    "                 verbose = 1, validation_data = (X_test, y_test))\n",
    "print(\"The model has successfully trained\")\n",
    "model_name = 'mnist_cnn.h5'\n",
    "model.save(model_name)\n",
    "print(\"Saving the model as \" + model.name)"
   ]
  },
  {
   "cell_type": "code",
   "execution_count": 11,
   "id": "0050fe7c",
   "metadata": {},
   "outputs": [
    {
     "name": "stdout",
     "output_type": "stream",
     "text": [
      "Model: \"sequential\"\n",
      "_________________________________________________________________\n",
      " Layer (type)                Output Shape              Param #   \n",
      "=================================================================\n",
      " conv2d (Conv2D)             (None, 14, 14, 64)        1664      \n",
      "                                                                 \n",
      " max_pooling2d (MaxPooling2D  (None, 7, 7, 64)         0         \n",
      " )                                                               \n",
      "                                                                 \n",
      " dropout (Dropout)           (None, 7, 7, 64)          0         \n",
      "                                                                 \n",
      " conv2d_1 (Conv2D)           (None, 4, 4, 128)         204928    \n",
      "                                                                 \n",
      " leaky_re_lu (LeakyReLU)     (None, 4, 4, 128)         0         \n",
      "                                                                 \n",
      " dropout_1 (Dropout)         (None, 4, 4, 128)         0         \n",
      "                                                                 \n",
      " flatten (Flatten)           (None, 2048)              0         \n",
      "                                                                 \n",
      " dense (Dense)               (None, 500)               1024500   \n",
      "                                                                 \n",
      " dense_1 (Dense)             (None, 10)                5010      \n",
      "                                                                 \n",
      "=================================================================\n",
      "Total params: 1,236,102\n",
      "Trainable params: 1,236,102\n",
      "Non-trainable params: 0\n",
      "_________________________________________________________________\n"
     ]
    }
   ],
   "source": [
    "model.summary()"
   ]
  },
  {
   "cell_type": "code",
   "execution_count": 13,
   "id": "31dc1026",
   "metadata": {},
   "outputs": [
    {
     "name": "stdout",
     "output_type": "stream",
     "text": [
      "Test loss: 0.02566271275281906\n",
      "Test accuracy: 0.991100013256073\n"
     ]
    }
   ],
   "source": [
    "# Getting accuracy score\n",
    "\n",
    "score = model.evaluate(X_test, y_test, verbose = 0)\n",
    "\n",
    "print('Test loss:', score[0])\n",
    "print('Test accuracy:', score[1])"
   ]
  },
  {
   "cell_type": "code",
   "execution_count": null,
   "id": "185564d3",
   "metadata": {},
   "outputs": [],
   "source": []
  }
 ],
 "metadata": {
  "kernelspec": {
   "display_name": "Python 3 (ipykernel)",
   "language": "python",
   "name": "python3"
  },
  "language_info": {
   "codemirror_mode": {
    "name": "ipython",
    "version": 3
   },
   "file_extension": ".py",
   "mimetype": "text/x-python",
   "name": "python",
   "nbconvert_exporter": "python",
   "pygments_lexer": "ipython3",
   "version": "3.9.7"
  }
 },
 "nbformat": 4,
 "nbformat_minor": 5
}
