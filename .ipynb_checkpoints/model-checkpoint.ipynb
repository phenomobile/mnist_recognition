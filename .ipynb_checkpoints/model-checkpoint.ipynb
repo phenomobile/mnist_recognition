{
 "cells": [
  {
   "cell_type": "code",
   "execution_count": 1,
   "id": "a267bb40",
   "metadata": {},
   "outputs": [],
   "source": [
    "import tensorflow as tf\n",
    "\n",
    "import keras\n",
    "from keras.datasets import mnist\n",
    "from tensorflow.keras.models import Sequential\n",
    "from tensorflow.keras import layers"
   ]
  },
  {
   "cell_type": "code",
   "execution_count": 2,
   "id": "53ed627a",
   "metadata": {},
   "outputs": [
    {
     "name": "stdout",
     "output_type": "stream",
     "text": [
      "(60000, 28, 28) (10000, 28, 28)\n"
     ]
    }
   ],
   "source": [
    "(X_train, y_train), (X_test, y_test) = mnist.load_data()\n",
    "print(X_train.shape, X_test.shape)"
   ]
  },
  {
   "cell_type": "code",
   "execution_count": 3,
   "id": "7a6c234a",
   "metadata": {},
   "outputs": [],
   "source": [
    "X_train = X_train.reshape(X_train.shape[0], 28, 28, 1).astype('float32')\n",
    "X_train = (X_train - 127.5) / 127.5  # Normalize the images to [-1, 1]\n",
    "\n",
    "X_test = X_test.reshape(X_test.shape[0], 28, 28, 1).astype('float32')\n",
    "X_test = (X_test - 127.5) / 127.5  # Normalize the images to [-1, 1]\n",
    "\n",
    "\n",
    "num_of_classes = 10\n",
    "\n",
    "y_train = tf.keras.utils.to_categorical(y_train, num_of_classes)\n",
    "y_test = tf.keras.utils.to_categorical(y_test, num_of_classes)"
   ]
  },
  {
   "cell_type": "code",
   "execution_count": 4,
   "id": "7f246db8",
   "metadata": {},
   "outputs": [],
   "source": [
    "BATCH_SIZE = 128\n",
    "epochs = 50"
   ]
  },
  {
   "cell_type": "code",
   "execution_count": 5,
   "id": "189f14bd",
   "metadata": {},
   "outputs": [],
   "source": [
    "# Create the model\n",
    "\n",
    "def cnn_model():\n",
    "    model = tf.keras.Sequential()\n",
    "    model.add(layers.Conv2D(64, (5, 5), strides=(2, 2), padding='same',\n",
    "                                     input_shape=[28, 28, 1]))\n",
    "    model.add(layers.LeakyReLU(alpha = 0.2))\n",
    "    model.add(layers.MaxPooling2D(pool_size = (2,2)))\n",
    "    model.add(layers.Dropout(0.3))\n",
    "    \n",
    "    model.add(layers.Conv2D(128, (5, 5), strides=(2, 2), padding='same'))\n",
    "    model.add(layers.LeakyReLU(alpha = 0.2))\n",
    "    model.add(layers.Dropout(0.6))\n",
    "\n",
    "    model.add(layers.Flatten())\n",
    "    model.add(layers.Dense(num_of_classes, activation = 'softmax'))\n",
    "    model.compile(loss = tf.keras.losses.categorical_crossentropy,\n",
    "                  optimizer = tf.keras.optimizers.Adam(learning_rate = 2e-4, \n",
    "                                                       beta_1 = 0.5), metrics=['accuracy'])\n",
    "    \n",
    "    return model"
   ]
  },
  {
   "cell_type": "code",
   "execution_count": 6,
   "id": "d2c071c1",
   "metadata": {
    "scrolled": true
   },
   "outputs": [
    {
     "name": "stdout",
     "output_type": "stream",
     "text": [
      "Epoch 1/50\n",
      "469/469 [==============================] - 35s 73ms/step - loss: 0.5841 - accuracy: 0.8311 - val_loss: 0.1769 - val_accuracy: 0.9480\n",
      "Epoch 2/50\n",
      "469/469 [==============================] - 30s 63ms/step - loss: 0.1942 - accuracy: 0.9420 - val_loss: 0.1095 - val_accuracy: 0.9661\n",
      "Epoch 3/50\n",
      "469/469 [==============================] - 31s 65ms/step - loss: 0.1412 - accuracy: 0.9572 - val_loss: 0.0800 - val_accuracy: 0.9747\n",
      "Epoch 4/50\n",
      "469/469 [==============================] - 32s 68ms/step - loss: 0.1142 - accuracy: 0.9659 - val_loss: 0.0638 - val_accuracy: 0.9803\n",
      "Epoch 5/50\n",
      "469/469 [==============================] - 37s 79ms/step - loss: 0.0997 - accuracy: 0.9695 - val_loss: 0.0568 - val_accuracy: 0.9818\n",
      "Epoch 6/50\n",
      "469/469 [==============================] - 34s 72ms/step - loss: 0.0893 - accuracy: 0.9726 - val_loss: 0.0486 - val_accuracy: 0.9832\n",
      "Epoch 7/50\n",
      "469/469 [==============================] - 33s 71ms/step - loss: 0.0804 - accuracy: 0.9756 - val_loss: 0.0465 - val_accuracy: 0.9840\n",
      "Epoch 8/50\n",
      "469/469 [==============================] - 34s 73ms/step - loss: 0.0755 - accuracy: 0.9764 - val_loss: 0.0430 - val_accuracy: 0.9850\n",
      "Epoch 9/50\n",
      "469/469 [==============================] - 33s 70ms/step - loss: 0.0695 - accuracy: 0.9781 - val_loss: 0.0398 - val_accuracy: 0.9867\n",
      "Epoch 10/50\n",
      "469/469 [==============================] - 35s 76ms/step - loss: 0.0672 - accuracy: 0.9792 - val_loss: 0.0386 - val_accuracy: 0.9869\n",
      "Epoch 11/50\n",
      "469/469 [==============================] - 37s 78ms/step - loss: 0.0639 - accuracy: 0.9794 - val_loss: 0.0356 - val_accuracy: 0.9886\n",
      "Epoch 12/50\n",
      "469/469 [==============================] - 39s 83ms/step - loss: 0.0610 - accuracy: 0.9805 - val_loss: 0.0339 - val_accuracy: 0.9894\n",
      "Epoch 13/50\n",
      "469/469 [==============================] - 38s 80ms/step - loss: 0.0580 - accuracy: 0.9820 - val_loss: 0.0317 - val_accuracy: 0.9892\n",
      "Epoch 14/50\n",
      "469/469 [==============================] - 42s 90ms/step - loss: 0.0554 - accuracy: 0.9824 - val_loss: 0.0307 - val_accuracy: 0.9895\n",
      "Epoch 15/50\n",
      "469/469 [==============================] - 43s 92ms/step - loss: 0.0552 - accuracy: 0.9827 - val_loss: 0.0304 - val_accuracy: 0.9902\n",
      "Epoch 16/50\n",
      "469/469 [==============================] - 44s 95ms/step - loss: 0.0527 - accuracy: 0.9836 - val_loss: 0.0295 - val_accuracy: 0.9896\n",
      "Epoch 17/50\n",
      "469/469 [==============================] - 43s 92ms/step - loss: 0.0499 - accuracy: 0.9840 - val_loss: 0.0281 - val_accuracy: 0.9900\n",
      "Epoch 18/50\n",
      "469/469 [==============================] - 39s 83ms/step - loss: 0.0502 - accuracy: 0.9840 - val_loss: 0.0295 - val_accuracy: 0.9900\n",
      "Epoch 19/50\n",
      "469/469 [==============================] - 31s 66ms/step - loss: 0.0465 - accuracy: 0.9851 - val_loss: 0.0267 - val_accuracy: 0.9909\n",
      "Epoch 20/50\n",
      "469/469 [==============================] - 34s 73ms/step - loss: 0.0452 - accuracy: 0.9859 - val_loss: 0.0277 - val_accuracy: 0.9907\n",
      "Epoch 21/50\n",
      "469/469 [==============================] - 51s 108ms/step - loss: 0.0439 - accuracy: 0.9857 - val_loss: 0.0264 - val_accuracy: 0.9916\n",
      "Epoch 22/50\n",
      "469/469 [==============================] - 44s 95ms/step - loss: 0.0440 - accuracy: 0.9859 - val_loss: 0.0270 - val_accuracy: 0.9903\n",
      "Epoch 23/50\n",
      "469/469 [==============================] - 45s 96ms/step - loss: 0.0433 - accuracy: 0.9861 - val_loss: 0.0251 - val_accuracy: 0.9917\n",
      "Epoch 24/50\n",
      "469/469 [==============================] - 45s 97ms/step - loss: 0.0410 - accuracy: 0.9869 - val_loss: 0.0263 - val_accuracy: 0.9903\n",
      "Epoch 25/50\n",
      "469/469 [==============================] - 46s 97ms/step - loss: 0.0393 - accuracy: 0.9872 - val_loss: 0.0261 - val_accuracy: 0.9908\n",
      "Epoch 26/50\n",
      "469/469 [==============================] - 38s 80ms/step - loss: 0.0406 - accuracy: 0.9869 - val_loss: 0.0248 - val_accuracy: 0.9914\n",
      "Epoch 27/50\n",
      "469/469 [==============================] - 31s 66ms/step - loss: 0.0401 - accuracy: 0.9872 - val_loss: 0.0250 - val_accuracy: 0.9911\n",
      "Epoch 28/50\n",
      "469/469 [==============================] - 45s 97ms/step - loss: 0.0390 - accuracy: 0.9872 - val_loss: 0.0257 - val_accuracy: 0.9906\n",
      "Epoch 29/50\n",
      "469/469 [==============================] - 46s 98ms/step - loss: 0.0381 - accuracy: 0.9880 - val_loss: 0.0234 - val_accuracy: 0.9922\n",
      "Epoch 30/50\n",
      "469/469 [==============================] - 46s 98ms/step - loss: 0.0359 - accuracy: 0.9883 - val_loss: 0.0245 - val_accuracy: 0.9917\n",
      "Epoch 31/50\n",
      "469/469 [==============================] - 46s 98ms/step - loss: 0.0371 - accuracy: 0.9879 - val_loss: 0.0242 - val_accuracy: 0.9916\n",
      "Epoch 32/50\n",
      "469/469 [==============================] - 46s 98ms/step - loss: 0.0358 - accuracy: 0.9887 - val_loss: 0.0244 - val_accuracy: 0.9914\n",
      "Epoch 33/50\n",
      "469/469 [==============================] - 48s 103ms/step - loss: 0.0346 - accuracy: 0.9887 - val_loss: 0.0239 - val_accuracy: 0.9917\n",
      "Epoch 34/50\n",
      "469/469 [==============================] - 47s 100ms/step - loss: 0.0348 - accuracy: 0.9884 - val_loss: 0.0236 - val_accuracy: 0.9924\n",
      "Epoch 35/50\n",
      "469/469 [==============================] - 46s 99ms/step - loss: 0.0343 - accuracy: 0.9889 - val_loss: 0.0227 - val_accuracy: 0.9925\n",
      "Epoch 36/50\n",
      "469/469 [==============================] - 50s 107ms/step - loss: 0.0321 - accuracy: 0.9898 - val_loss: 0.0228 - val_accuracy: 0.9918\n",
      "Epoch 37/50\n",
      "469/469 [==============================] - 54s 114ms/step - loss: 0.0324 - accuracy: 0.9896 - val_loss: 0.0224 - val_accuracy: 0.9926\n",
      "Epoch 38/50\n",
      "469/469 [==============================] - 46s 98ms/step - loss: 0.0331 - accuracy: 0.9902 - val_loss: 0.0232 - val_accuracy: 0.9919\n",
      "Epoch 39/50\n",
      "469/469 [==============================] - 46s 99ms/step - loss: 0.0334 - accuracy: 0.9886 - val_loss: 0.0233 - val_accuracy: 0.9931\n",
      "Epoch 40/50\n",
      "469/469 [==============================] - 46s 99ms/step - loss: 0.0313 - accuracy: 0.9898 - val_loss: 0.0222 - val_accuracy: 0.9923\n",
      "Epoch 41/50\n",
      "469/469 [==============================] - 46s 98ms/step - loss: 0.0313 - accuracy: 0.9895 - val_loss: 0.0226 - val_accuracy: 0.9923\n",
      "Epoch 42/50\n",
      "469/469 [==============================] - 47s 100ms/step - loss: 0.0305 - accuracy: 0.9902 - val_loss: 0.0226 - val_accuracy: 0.9926\n",
      "Epoch 43/50\n",
      "469/469 [==============================] - 47s 100ms/step - loss: 0.0303 - accuracy: 0.9901 - val_loss: 0.0215 - val_accuracy: 0.9927\n",
      "Epoch 44/50\n",
      "469/469 [==============================] - 47s 101ms/step - loss: 0.0289 - accuracy: 0.9905 - val_loss: 0.0216 - val_accuracy: 0.9932\n",
      "Epoch 45/50\n",
      "469/469 [==============================] - 46s 98ms/step - loss: 0.0292 - accuracy: 0.9901 - val_loss: 0.0220 - val_accuracy: 0.9928\n",
      "Epoch 46/50\n",
      "469/469 [==============================] - 46s 98ms/step - loss: 0.0284 - accuracy: 0.9906 - val_loss: 0.0225 - val_accuracy: 0.9920\n",
      "Epoch 47/50\n",
      "469/469 [==============================] - 47s 99ms/step - loss: 0.0279 - accuracy: 0.9905 - val_loss: 0.0222 - val_accuracy: 0.9931\n",
      "Epoch 48/50\n",
      "469/469 [==============================] - 46s 99ms/step - loss: 0.0273 - accuracy: 0.9911 - val_loss: 0.0219 - val_accuracy: 0.9924\n",
      "Epoch 49/50\n",
      "469/469 [==============================] - 47s 100ms/step - loss: 0.0278 - accuracy: 0.9909 - val_loss: 0.0226 - val_accuracy: 0.9927\n",
      "Epoch 50/50\n",
      "469/469 [==============================] - 47s 100ms/step - loss: 0.0270 - accuracy: 0.9916 - val_loss: 0.0227 - val_accuracy: 0.9924\n",
      "The model has successfully trained\n",
      "Saving the model as sequential\n"
     ]
    }
   ],
   "source": [
    "# Train model\n",
    "\n",
    "model = cnn_model()\n",
    "\n",
    "hist = model.fit(X_train, y_train,\n",
    "                 batch_size = BATCH_SIZE, epochs = epochs,\n",
    "                 verbose = 1, validation_data = (X_test, y_test))\n",
    "print(\"The model has successfully trained\")\n",
    "model_name = 'digits_cnn.h5'\n",
    "model.save(model_name)\n",
    "print(\"Saving the model as \" + model.name)"
   ]
  },
  {
   "cell_type": "code",
   "execution_count": 7,
   "id": "31dc1026",
   "metadata": {},
   "outputs": [
    {
     "name": "stdout",
     "output_type": "stream",
     "text": [
      "Test loss: 0.02269837260246277\n",
      "Test accuracy: 0.9923999905586243\n"
     ]
    }
   ],
   "source": [
    "# Getting accuracy score\n",
    "\n",
    "score = model.evaluate(X_test, y_test, verbose = 0)\n",
    "\n",
    "print('Test loss:', score[0])\n",
    "print('Test accuracy:', score[1])"
   ]
  },
  {
   "cell_type": "code",
   "execution_count": null,
   "id": "185564d3",
   "metadata": {},
   "outputs": [],
   "source": []
  }
 ],
 "metadata": {
  "kernelspec": {
   "display_name": "Python 3 (ipykernel)",
   "language": "python",
   "name": "python3"
  },
  "language_info": {
   "codemirror_mode": {
    "name": "ipython",
    "version": 3
   },
   "file_extension": ".py",
   "mimetype": "text/x-python",
   "name": "python",
   "nbconvert_exporter": "python",
   "pygments_lexer": "ipython3",
   "version": "3.9.10"
  }
 },
 "nbformat": 4,
 "nbformat_minor": 5
}
