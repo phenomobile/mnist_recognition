{
 "cells": [
  {
   "cell_type": "code",
   "execution_count": 2,
   "id": "f32c1180",
   "metadata": {
    "scrolled": true
   },
   "outputs": [],
   "source": [
    "from PIL import Image\n",
    "import os, sys\n",
    "import glob\n",
    "\n",
    "path = \"H:/datasets/handwritten_math/prep_starter_level/\"\n",
    "dirs = os.listdir( path )\n",
    "\n",
    "for filename in glob.iglob(path + '**/*.jpg', recursive=True):\n",
    "    im = Image.open(filename)\n",
    "    imResize = im.resize((28, 28), Image.ANTIALIAS)\n",
    "    imResize.save(filename , 'JPEG', quality=90)"
   ]
  },
  {
   "cell_type": "code",
   "execution_count": 3,
   "id": "cb405d93",
   "metadata": {},
   "outputs": [
    {
     "data": {
      "text/plain": [
       "'H:/datasets/handwritten_math/prep_starter_level/'"
      ]
     },
     "execution_count": 3,
     "metadata": {},
     "output_type": "execute_result"
    }
   ],
   "source": [
    "path"
   ]
  }
 ],
 "metadata": {
  "kernelspec": {
   "display_name": "Python 3 (ipykernel)",
   "language": "python",
   "name": "python3"
  },
  "language_info": {
   "codemirror_mode": {
    "name": "ipython",
    "version": 3
   },
   "file_extension": ".py",
   "mimetype": "text/x-python",
   "name": "python",
   "nbconvert_exporter": "python",
   "pygments_lexer": "ipython3",
   "version": "3.9.7"
  }
 },
 "nbformat": 4,
 "nbformat_minor": 5
}
